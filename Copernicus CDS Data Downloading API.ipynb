{
 "cells": [
  {
   "cell_type": "markdown",
   "metadata": {},
   "source": [
    "# For initial file downloading, head to https://cds.climate.copernicus.eu/cdsapp#!/home\n",
    "\n",
    "This example uses the ERA5 reanalysis dataset, and chooses the following variables:\n",
    "\n",
    "**Type - Reanalysis**\n",
    "\n",
    "**Format - .GRIB**\n",
    "\n",
    "**Variable - 2 meter temperature**\n",
    "\n",
    "**Date and times - July 2022, all times**\n",
    "\n",
    "**Area - Centred around the UK**\n",
    "\n",
    "These can all be editted to be whatever is desired. Understanding the formatting and options is important if you wish to automate different requests via Python, however simple one off requests can easily be done within the website.\n",
    "\n",
    "To download it via the website, you would search for the dataset you require, click on \"Download Data\", pick the variables you need, and then put in the request by clicking \"Submit Form\". This can then be found from the top header under \"Your Requests\". \n",
    "\n",
    "**Please note**, these requests do not seem to last for long, maybe a few days, and additionally require an account. Also note that if you are doing requests that require extensive amounts of data, such as large time periods (10+ years), or large regions, requsts can take a number of hours to go through. The longest I found they would take was around 2.5 hours, but this may be even longer if you wanted for example, a request which scanned the whole world over 10+ years. "
   ]
  },
  {
   "cell_type": "code",
   "execution_count": 2,
   "metadata": {},
   "outputs": [
    {
     "name": "stderr",
     "output_type": "stream",
     "text": [
      "2022-09-01 18:32:30,496 INFO Welcome to the CDS\n",
      "2022-09-01 18:32:30,497 INFO Sending request to https://cds.climate.copernicus.eu/api/v2/resources/reanalysis-era5-single-levels\n",
      "2022-09-01 18:32:30,600 INFO Request is completed\n",
      "2022-09-01 18:32:30,601 INFO Downloading https://download-0000-clone.copernicus-climate.eu/cache-compute-0000/cache/data3/adaptor.mars.internal-1662053494.0075617-11746-6-148d2214-e0ca-4c6a-8c8e-c18bf4023056.grib to download.grib (3.5M)\n",
      "2022-09-01 18:32:33,197 INFO Download rate 1.3M/s                                                                      \n"
     ]
    },
    {
     "data": {
      "text/plain": [
       "Result(content_length=3660480,content_type=application/x-grib,location=https://download-0000-clone.copernicus-climate.eu/cache-compute-0000/cache/data3/adaptor.mars.internal-1662053494.0075617-11746-6-148d2214-e0ca-4c6a-8c8e-c18bf4023056.grib)"
      ]
     },
     "execution_count": 2,
     "metadata": {},
     "output_type": "execute_result"
    }
   ],
   "source": [
    "import cdsapi\n",
    "\n",
    "c = cdsapi.Client()\n",
    "\n",
    "c.retrieve(\n",
    "    'reanalysis-era5-single-levels',\n",
    "    {\n",
    "        'product_type': 'reanalysis',\n",
    "        'format': 'grib',\n",
    "        'variable': '2m_temperature',\n",
    "        'year': '2022',\n",
    "        'month': '07',\n",
    "        'day': [\n",
    "            '01', '02', '03',\n",
    "            '04', '05', '06',\n",
    "            '07', '08', '09',\n",
    "            '10', '11', '12',\n",
    "            '13', '14', '15',\n",
    "            '16', '17', '18',\n",
    "            '19', '20', '21',\n",
    "            '22', '23', '24',\n",
    "            '25', '26', '27',\n",
    "            '28', '29', '30',\n",
    "            '31',\n",
    "        ],\n",
    "        'time': [\n",
    "            '00:00', '01:00', '02:00',\n",
    "            '03:00', '04:00', '05:00',\n",
    "            '06:00', '07:00', '08:00',\n",
    "            '09:00', '10:00', '11:00',\n",
    "            '12:00', '13:00', '14:00',\n",
    "            '15:00', '16:00', '17:00',\n",
    "            '18:00', '19:00', '20:00',\n",
    "            '21:00', '22:00', '23:00',\n",
    "        ],\n",
    "        'area': [\n",
    "            61, -11, 50,\n",
    "            2,\n",
    "        ],\n",
    "    },\n",
    "    'download.grib')"
   ]
  }
 ],
 "metadata": {
  "kernelspec": {
   "display_name": "Python 3",
   "language": "python",
   "name": "python3"
  },
  "language_info": {
   "codemirror_mode": {
    "name": "ipython",
    "version": 3
   },
   "file_extension": ".py",
   "mimetype": "text/x-python",
   "name": "python",
   "nbconvert_exporter": "python",
   "pygments_lexer": "ipython3",
   "version": "3.8.3"
  }
 },
 "nbformat": 4,
 "nbformat_minor": 4
}
